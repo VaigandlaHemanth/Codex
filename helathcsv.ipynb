{
 "cells": [
  {
   "cell_type": "code",
   "execution_count": 1,
   "metadata": {},
   "outputs": [
    {
     "name": "stdout",
     "output_type": "stream",
     "text": [
      "   age  gender  weight_kg  height_cm  heart_rate  calories activity_level  \\\n",
      "0   62    Male       65.2      173.2          79      2614       Moderate   \n",
      "1   65    Male       61.1      155.1          62      2981            Low   \n",
      "2   71    Male       64.1      130.6          89      2870       Moderate   \n",
      "3   18  Female       69.5      173.3          61      2949       Moderate   \n",
      "4   21    Male       65.3      173.2          81      2507           High   \n",
      "\n",
      "  smoking_status alcohol_intake      risk  \n",
      "0         Smoker           High  Moderate  \n",
      "1     Non-Smoker           High  Moderate  \n",
      "2         Smoker           High      High  \n",
      "3     Non-Smoker           High  Moderate  \n",
      "4     Non-Smoker           None       Low  \n",
      "Synthetic dataset saved as 'synthetic_health_data.csv'\n"
     ]
    }
   ],
   "source": [
    "import numpy as np\n",
    "import pandas as pd\n",
    "\n",
    "# Set random seed for reproducibility\n",
    "np.random.seed(0)\n",
    "\n",
    "# Number of samples\n",
    "num_samples = 1000\n",
    "\n",
    "# Generate synthetic data\n",
    "data = pd.DataFrame({\n",
    "    'age': np.random.randint(18, 80, num_samples),\n",
    "    'gender': np.random.choice(['Male', 'Female'], num_samples),\n",
    "    'weight_kg': np.round(np.random.normal(70, 15, num_samples), 1),  # avg 70kg, std 15\n",
    "    'height_cm': np.round(np.random.normal(165, 10, num_samples), 1),  # avg 165cm, std 10\n",
    "    'heart_rate': np.random.randint(60, 100, num_samples),  # resting heart rate range\n",
    "    'calories': np.random.randint(1500, 3000, num_samples),\n",
    "    'activity_level': np.random.choice(['Low', 'Moderate', 'High'], num_samples),\n",
    "    'smoking_status': np.random.choice(['Smoker', 'Non-Smoker'], num_samples),\n",
    "    'alcohol_intake': np.random.choice(['None', 'Moderate', 'High'], num_samples)\n",
    "})\n",
    "\n",
    "# Generate a synthetic health risk based on combinations of features\n",
    "conditions = [\n",
    "    (data['age'] >= 50) & (data['heart_rate'] >= 80) & (data['smoking_status'] == 'Smoker'),\n",
    "    (data['activity_level'] == 'Low') & (data['weight_kg'] > 80),\n",
    "    (data['calories'] > 2500) & (data['activity_level'] == 'Low'),\n",
    "    (data['alcohol_intake'] == 'High'),\n",
    "    (data['age'] < 30) & (data['activity_level'] == 'High')\n",
    "]\n",
    "choices = ['High', 'Moderate', 'Moderate', 'Moderate', 'Low']\n",
    "data['risk'] = np.select(conditions, choices, default='Low')\n",
    "\n",
    "# Preview the dataset\n",
    "print(data.head())\n",
    "\n",
    "# Save dataset to a CSV file\n",
    "data.to_csv(\"synthetic_health_data.csv\", index=False)\n",
    "print(\"Synthetic dataset saved as 'synthetic_health_data.csv'\")\n"
   ]
  },
  {
   "cell_type": "code",
   "execution_count": null,
   "metadata": {},
   "outputs": [],
   "source": [
    "import pandas as pd\n",
    "\n",
    "# Load the current dataset\n",
    "data = pd.read_csv(\"synthetic_health_data.csv\")\n",
    "\n",
    "# Replace or add new categories in 'alcohol_intake' and 'smoking_status'\n",
    "data['alcohol_intake'] = data['alcohol_intake'].replace({'Frequent': 'Regular'})\n",
    "data['smoking_status'] = data['smoking_status'].replace({'Occasional': 'Former Smoker'})\n",
    "\n",
    "# Add more rows for new categories, if needed\n",
    "new_rows = pd.DataFrame({\n",
    "    'age': [45, 34],\n",
    "    'gender': ['Male', 'Female'],\n",
    "    'weight_kg': [75, 60],\n",
    "    'height_cm': [170, 160],\n",
    "    'heart_rate': [80, 72],\n",
    "    'calories': [2200, 1900],\n",
    "    'activity_level': ['Moderate', 'High'],\n",
    "    'smoking_status': ['Non-Smoker', 'Current Smoker'],\n",
    "    'alcohol_intake': ['Regular', 'None'],\n",
    "    'risk': ['Medium', 'Low']\n",
    "})\n",
    "\n",
    "# Append new rows to the dataset\n",
    "data = pd.concat([data, new_rows], ignore_index=True)\n",
    "\n",
    "# Save the updated dataset\n",
    "data.to_csv(\"updated_synthetic_health_data.csv\", index=False)\n",
    "\n",
    "print(\"Dataset updated and saved as 'updated_synthetic_health_data.csv'.\")\n"
   ]
  }
 ],
 "metadata": {
  "kernelspec": {
   "display_name": "PYTORCHENV",
   "language": "python",
   "name": "python3"
  },
  "language_info": {
   "codemirror_mode": {
    "name": "ipython",
    "version": 3
   },
   "file_extension": ".py",
   "mimetype": "text/x-python",
   "name": "python",
   "nbconvert_exporter": "python",
   "pygments_lexer": "ipython3",
   "version": "3.12.3"
  }
 },
 "nbformat": 4,
 "nbformat_minor": 2
}
