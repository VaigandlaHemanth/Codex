{
 "cells": [
  {
   "cell_type": "code",
   "execution_count": null,
   "metadata": {},
   "outputs": [],
   "source": [
    "from sklearn.model_selection import train_test_split\n",
    "from sklearn.ensemble import RandomForestClassifier\n",
    "from sklearn.preprocessing import LabelEncoder, StandardScaler\n",
    "import pandas as pd\n",
    "import joblib\n",
    "\n",
    "\n",
    "# Load updated dataset\n",
    "data = pd.read_csv(\"updated_synthetic_health_data.csv\")\n",
    "\n",
    "# Prepare data for training\n",
    "X = data.drop(columns=['risk'])\n",
    "y = data['risk']\n",
    "\n",
    "# Label encode categorical features\n",
    "categorical_features = ['gender', 'activity_level', 'smoking_status', 'alcohol_intake']\n",
    "label_encoders = {}\n",
    "\n",
    "for col in categorical_features:\n",
    "    le = LabelEncoder()\n",
    "    X[col] = le.fit_transform(X[col])\n",
    "    label_encoders[col] = le\n",
    "\n",
    "# Label encode the target variable\n",
    "risk_le = LabelEncoder()\n",
    "y = risk_le.fit_transform(y)\n",
    "label_encoders['risk'] = risk_le\n",
    "\n",
    "# Scale numeric features\n",
    "scaler = StandardScaler()\n",
    "numeric_features = ['age', 'weight_kg', 'height_cm', 'heart_rate', 'calories']\n",
    "X[numeric_features] = scaler.fit_transform(X[numeric_features])\n",
    "\n",
    "# Train-test split\n",
    "X_train, X_test, y_train, y_test = train_test_split(X, y, test_size=0.2, random_state=42)\n",
    "\n",
    "# Train the model\n",
    "model = RandomForestClassifier(random_state=42)\n",
    "model.fit(X_train, y_train)\n",
    "\n",
    "# Save the updated model, encoders, and scaler\n",
    "joblib.dump(model, \"health_risk_model.pkl\")\n",
    "joblib.dump(label_encoders, \"label_encoders.pkl\")\n",
    "joblib.dump(scaler, \"scaler.pkl\")\n",
    "print(\"Model Saved\")\n"
   ]
  }
 ],
 "metadata": {
  "kernelspec": {
   "display_name": "PYTORCHENV",
   "language": "python",
   "name": "python3"
  },
  "language_info": {
   "name": "python",
   "version": "3.12.3"
  }
 },
 "nbformat": 4,
 "nbformat_minor": 2
}
