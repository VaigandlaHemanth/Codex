{
 "cells": [
  {
   "cell_type": "code",
   "execution_count": 12,
   "id": "19ad2805",
   "metadata": {
    "execution": {
     "iopub.execute_input": "2024-08-28T19:07:08.236367Z",
     "iopub.status.busy": "2024-08-28T19:07:08.235819Z",
     "iopub.status.idle": "2024-08-28T19:07:08.255969Z",
     "shell.execute_reply": "2024-08-28T19:07:08.255025Z"
    },
    "papermill": {
     "duration": 0.033566,
     "end_time": "2024-08-28T19:07:08.258507",
     "exception": false,
     "start_time": "2024-08-28T19:07:08.224941",
     "status": "completed"
    },
    "tags": []
   },
   "outputs": [],
   "source": [
    "import numpy as np \n",
    "import pandas as pd\n",
    "df = pd.read_csv('employee_data.csv')"
   ]
  },
  {
   "cell_type": "code",
   "execution_count": 13,
   "id": "10957a97",
   "metadata": {
    "execution": {
     "iopub.execute_input": "2024-08-28T19:07:08.279785Z",
     "iopub.status.busy": "2024-08-28T19:07:08.279343Z",
     "iopub.status.idle": "2024-08-28T19:07:09.828253Z",
     "shell.execute_reply": "2024-08-28T19:07:09.827123Z"
    },
    "papermill": {
     "duration": 1.563054,
     "end_time": "2024-08-28T19:07:09.831462",
     "exception": false,
     "start_time": "2024-08-28T19:07:08.268408",
     "status": "completed"
    },
    "tags": []
   },
   "outputs": [],
   "source": [
    "import matplotlib.pyplot as plt\n",
    "import seaborn as sns"
   ]
  },
  {
   "cell_type": "code",
   "execution_count": 14,
   "id": "449eafd1",
   "metadata": {
    "execution": {
     "iopub.execute_input": "2024-08-28T19:07:09.858170Z",
     "iopub.status.busy": "2024-08-28T19:07:09.856838Z",
     "iopub.status.idle": "2024-08-28T19:07:09.890260Z",
     "shell.execute_reply": "2024-08-28T19:07:09.889045Z"
    },
    "papermill": {
     "duration": 0.048027,
     "end_time": "2024-08-28T19:07:09.892802",
     "exception": false,
     "start_time": "2024-08-28T19:07:09.844775",
     "status": "completed"
    },
    "tags": []
   },
   "outputs": [
    {
     "data": {
      "text/html": [
       "<div>\n",
       "<style scoped>\n",
       "    .dataframe tbody tr th:only-of-type {\n",
       "        vertical-align: middle;\n",
       "    }\n",
       "\n",
       "    .dataframe tbody tr th {\n",
       "        vertical-align: top;\n",
       "    }\n",
       "\n",
       "    .dataframe thead th {\n",
       "        text-align: right;\n",
       "    }\n",
       "</style>\n",
       "<table border=\"1\" class=\"dataframe\">\n",
       "  <thead>\n",
       "    <tr style=\"text-align: right;\">\n",
       "      <th></th>\n",
       "      <th>ID</th>\n",
       "      <th>Gender</th>\n",
       "      <th>Experience (Years)</th>\n",
       "      <th>Position</th>\n",
       "      <th>Salary</th>\n",
       "    </tr>\n",
       "  </thead>\n",
       "  <tbody>\n",
       "    <tr>\n",
       "      <th>0</th>\n",
       "      <td>1</td>\n",
       "      <td>F</td>\n",
       "      <td>4</td>\n",
       "      <td>DevOps Engineer</td>\n",
       "      <td>109976</td>\n",
       "    </tr>\n",
       "    <tr>\n",
       "      <th>1</th>\n",
       "      <td>2</td>\n",
       "      <td>M</td>\n",
       "      <td>6</td>\n",
       "      <td>DevOps Engineer</td>\n",
       "      <td>120088</td>\n",
       "    </tr>\n",
       "    <tr>\n",
       "      <th>2</th>\n",
       "      <td>3</td>\n",
       "      <td>M</td>\n",
       "      <td>17</td>\n",
       "      <td>Web Developer</td>\n",
       "      <td>181301</td>\n",
       "    </tr>\n",
       "    <tr>\n",
       "      <th>3</th>\n",
       "      <td>4</td>\n",
       "      <td>M</td>\n",
       "      <td>7</td>\n",
       "      <td>Systems Administrator</td>\n",
       "      <td>77530</td>\n",
       "    </tr>\n",
       "    <tr>\n",
       "      <th>4</th>\n",
       "      <td>5</td>\n",
       "      <td>F</td>\n",
       "      <td>13</td>\n",
       "      <td>Systems Administrator</td>\n",
       "      <td>152397</td>\n",
       "    </tr>\n",
       "    <tr>\n",
       "      <th>...</th>\n",
       "      <td>...</td>\n",
       "      <td>...</td>\n",
       "      <td>...</td>\n",
       "      <td>...</td>\n",
       "      <td>...</td>\n",
       "    </tr>\n",
       "    <tr>\n",
       "      <th>395</th>\n",
       "      <td>396</td>\n",
       "      <td>F</td>\n",
       "      <td>19</td>\n",
       "      <td>Cloud Solutions Architect</td>\n",
       "      <td>236045</td>\n",
       "    </tr>\n",
       "    <tr>\n",
       "      <th>396</th>\n",
       "      <td>397</td>\n",
       "      <td>F</td>\n",
       "      <td>20</td>\n",
       "      <td>Web Developer</td>\n",
       "      <td>182770</td>\n",
       "    </tr>\n",
       "    <tr>\n",
       "      <th>397</th>\n",
       "      <td>398</td>\n",
       "      <td>F</td>\n",
       "      <td>9</td>\n",
       "      <td>Network Administrator</td>\n",
       "      <td>85550</td>\n",
       "    </tr>\n",
       "    <tr>\n",
       "      <th>398</th>\n",
       "      <td>399</td>\n",
       "      <td>M</td>\n",
       "      <td>18</td>\n",
       "      <td>Database Administrator (DBA)</td>\n",
       "      <td>129996</td>\n",
       "    </tr>\n",
       "    <tr>\n",
       "      <th>399</th>\n",
       "      <td>400</td>\n",
       "      <td>F</td>\n",
       "      <td>11</td>\n",
       "      <td>IT Security Analyst</td>\n",
       "      <td>169058</td>\n",
       "    </tr>\n",
       "  </tbody>\n",
       "</table>\n",
       "<p>400 rows × 5 columns</p>\n",
       "</div>"
      ],
      "text/plain": [
       "      ID Gender  Experience (Years)                      Position  Salary\n",
       "0      1      F                   4               DevOps Engineer  109976\n",
       "1      2      M                   6               DevOps Engineer  120088\n",
       "2      3      M                  17                 Web Developer  181301\n",
       "3      4      M                   7         Systems Administrator   77530\n",
       "4      5      F                  13         Systems Administrator  152397\n",
       "..   ...    ...                 ...                           ...     ...\n",
       "395  396      F                  19     Cloud Solutions Architect  236045\n",
       "396  397      F                  20                 Web Developer  182770\n",
       "397  398      F                   9         Network Administrator   85550\n",
       "398  399      M                  18  Database Administrator (DBA)  129996\n",
       "399  400      F                  11           IT Security Analyst  169058\n",
       "\n",
       "[400 rows x 5 columns]"
      ]
     },
     "execution_count": 14,
     "metadata": {},
     "output_type": "execute_result"
    }
   ],
   "source": [
    "df"
   ]
  },
  {
   "cell_type": "code",
   "execution_count": 15,
   "id": "b4768136",
   "metadata": {
    "execution": {
     "iopub.execute_input": "2024-08-28T19:07:09.914774Z",
     "iopub.status.busy": "2024-08-28T19:07:09.914360Z",
     "iopub.status.idle": "2024-08-28T19:07:09.932331Z",
     "shell.execute_reply": "2024-08-28T19:07:09.931244Z"
    },
    "papermill": {
     "duration": 0.031745,
     "end_time": "2024-08-28T19:07:09.934822",
     "exception": false,
     "start_time": "2024-08-28T19:07:09.903077",
     "status": "completed"
    },
    "tags": []
   },
   "outputs": [
    {
     "data": {
      "text/plain": [
       "ID                    0\n",
       "Gender                0\n",
       "Experience (Years)    0\n",
       "Position              0\n",
       "Salary                0\n",
       "dtype: int64"
      ]
     },
     "execution_count": 15,
     "metadata": {},
     "output_type": "execute_result"
    }
   ],
   "source": [
    "df.isna().sum()"
   ]
  },
  {
   "cell_type": "code",
   "execution_count": 16,
   "id": "7402bbee",
   "metadata": {
    "execution": {
     "iopub.execute_input": "2024-08-28T19:07:09.957413Z",
     "iopub.status.busy": "2024-08-28T19:07:09.956844Z",
     "iopub.status.idle": "2024-08-28T19:07:09.983377Z",
     "shell.execute_reply": "2024-08-28T19:07:09.982284Z"
    },
    "papermill": {
     "duration": 0.041077,
     "end_time": "2024-08-28T19:07:09.986270",
     "exception": false,
     "start_time": "2024-08-28T19:07:09.945193",
     "status": "completed"
    },
    "tags": []
   },
   "outputs": [
    {
     "name": "stdout",
     "output_type": "stream",
     "text": [
      "<class 'pandas.core.frame.DataFrame'>\n",
      "RangeIndex: 400 entries, 0 to 399\n",
      "Data columns (total 5 columns):\n",
      " #   Column              Non-Null Count  Dtype \n",
      "---  ------              --------------  ----- \n",
      " 0   ID                  400 non-null    int64 \n",
      " 1   Gender              400 non-null    object\n",
      " 2   Experience (Years)  400 non-null    int64 \n",
      " 3   Position            400 non-null    object\n",
      " 4   Salary              400 non-null    int64 \n",
      "dtypes: int64(3), object(2)\n",
      "memory usage: 15.8+ KB\n"
     ]
    }
   ],
   "source": [
    "df.info()"
   ]
  },
  {
   "cell_type": "code",
   "execution_count": 17,
   "id": "149ce9b3",
   "metadata": {
    "execution": {
     "iopub.execute_input": "2024-08-28T19:07:10.012735Z",
     "iopub.status.busy": "2024-08-28T19:07:10.011747Z",
     "iopub.status.idle": "2024-08-28T19:07:10.024008Z",
     "shell.execute_reply": "2024-08-28T19:07:10.022821Z"
    },
    "papermill": {
     "duration": 0.026285,
     "end_time": "2024-08-28T19:07:10.026386",
     "exception": false,
     "start_time": "2024-08-28T19:07:10.000101",
     "status": "completed"
    },
    "tags": []
   },
   "outputs": [
    {
     "data": {
      "text/html": [
       "<div>\n",
       "<style scoped>\n",
       "    .dataframe tbody tr th:only-of-type {\n",
       "        vertical-align: middle;\n",
       "    }\n",
       "\n",
       "    .dataframe tbody tr th {\n",
       "        vertical-align: top;\n",
       "    }\n",
       "\n",
       "    .dataframe thead th {\n",
       "        text-align: right;\n",
       "    }\n",
       "</style>\n",
       "<table border=\"1\" class=\"dataframe\">\n",
       "  <thead>\n",
       "    <tr style=\"text-align: right;\">\n",
       "      <th></th>\n",
       "      <th>ID</th>\n",
       "      <th>Gender</th>\n",
       "      <th>Experience (Years)</th>\n",
       "      <th>Position</th>\n",
       "      <th>Salary</th>\n",
       "    </tr>\n",
       "  </thead>\n",
       "  <tbody>\n",
       "    <tr>\n",
       "      <th>0</th>\n",
       "      <td>1</td>\n",
       "      <td>F</td>\n",
       "      <td>4</td>\n",
       "      <td>DevOps Engineer</td>\n",
       "      <td>109976</td>\n",
       "    </tr>\n",
       "    <tr>\n",
       "      <th>1</th>\n",
       "      <td>2</td>\n",
       "      <td>M</td>\n",
       "      <td>6</td>\n",
       "      <td>DevOps Engineer</td>\n",
       "      <td>120088</td>\n",
       "    </tr>\n",
       "    <tr>\n",
       "      <th>2</th>\n",
       "      <td>3</td>\n",
       "      <td>M</td>\n",
       "      <td>17</td>\n",
       "      <td>Web Developer</td>\n",
       "      <td>181301</td>\n",
       "    </tr>\n",
       "    <tr>\n",
       "      <th>3</th>\n",
       "      <td>4</td>\n",
       "      <td>M</td>\n",
       "      <td>7</td>\n",
       "      <td>Systems Administrator</td>\n",
       "      <td>77530</td>\n",
       "    </tr>\n",
       "    <tr>\n",
       "      <th>4</th>\n",
       "      <td>5</td>\n",
       "      <td>F</td>\n",
       "      <td>13</td>\n",
       "      <td>Systems Administrator</td>\n",
       "      <td>152397</td>\n",
       "    </tr>\n",
       "  </tbody>\n",
       "</table>\n",
       "</div>"
      ],
      "text/plain": [
       "   ID Gender  Experience (Years)               Position  Salary\n",
       "0   1      F                   4        DevOps Engineer  109976\n",
       "1   2      M                   6        DevOps Engineer  120088\n",
       "2   3      M                  17          Web Developer  181301\n",
       "3   4      M                   7  Systems Administrator   77530\n",
       "4   5      F                  13  Systems Administrator  152397"
      ]
     },
     "execution_count": 17,
     "metadata": {},
     "output_type": "execute_result"
    }
   ],
   "source": [
    "df.head()"
   ]
  },
  {
   "cell_type": "code",
   "execution_count": 18,
   "id": "e2bdf9a1",
   "metadata": {},
   "outputs": [
    {
     "name": "stdout",
     "output_type": "stream",
     "text": [
      "      ID Gender  Experience (Years)                      Position  Salary\n",
      "395  396      F                  19     Cloud Solutions Architect  236045\n",
      "396  397      F                  20                 Web Developer  182770\n",
      "397  398      F                   9         Network Administrator   85550\n",
      "398  399      M                  18  Database Administrator (DBA)  129996\n",
      "399  400      F                  11           IT Security Analyst  169058\n"
     ]
    }
   ],
   "source": [
    "print(df.tail())   # View the last 5 rows\n"
   ]
  },
  {
   "cell_type": "code",
   "execution_count": 19,
   "id": "35d47243",
   "metadata": {
    "execution": {
     "iopub.execute_input": "2024-08-28T19:07:10.049781Z",
     "iopub.status.busy": "2024-08-28T19:07:10.049037Z",
     "iopub.status.idle": "2024-08-28T19:07:10.072210Z",
     "shell.execute_reply": "2024-08-28T19:07:10.071135Z"
    },
    "papermill": {
     "duration": 0.037956,
     "end_time": "2024-08-28T19:07:10.075186",
     "exception": false,
     "start_time": "2024-08-28T19:07:10.037230",
     "status": "completed"
    },
    "tags": []
   },
   "outputs": [
    {
     "data": {
      "text/html": [
       "<div>\n",
       "<style scoped>\n",
       "    .dataframe tbody tr th:only-of-type {\n",
       "        vertical-align: middle;\n",
       "    }\n",
       "\n",
       "    .dataframe tbody tr th {\n",
       "        vertical-align: top;\n",
       "    }\n",
       "\n",
       "    .dataframe thead th {\n",
       "        text-align: right;\n",
       "    }\n",
       "</style>\n",
       "<table border=\"1\" class=\"dataframe\">\n",
       "  <thead>\n",
       "    <tr style=\"text-align: right;\">\n",
       "      <th></th>\n",
       "      <th>ID</th>\n",
       "      <th>Experience (Years)</th>\n",
       "      <th>Salary</th>\n",
       "    </tr>\n",
       "  </thead>\n",
       "  <tbody>\n",
       "    <tr>\n",
       "      <th>count</th>\n",
       "      <td>400.000000</td>\n",
       "      <td>400.000000</td>\n",
       "      <td>400.00000</td>\n",
       "    </tr>\n",
       "    <tr>\n",
       "      <th>mean</th>\n",
       "      <td>200.500000</td>\n",
       "      <td>9.670000</td>\n",
       "      <td>131701.19750</td>\n",
       "    </tr>\n",
       "    <tr>\n",
       "      <th>std</th>\n",
       "      <td>115.614301</td>\n",
       "      <td>6.101571</td>\n",
       "      <td>43351.50899</td>\n",
       "    </tr>\n",
       "    <tr>\n",
       "      <th>min</th>\n",
       "      <td>1.000000</td>\n",
       "      <td>0.000000</td>\n",
       "      <td>43643.00000</td>\n",
       "    </tr>\n",
       "    <tr>\n",
       "      <th>25%</th>\n",
       "      <td>100.750000</td>\n",
       "      <td>4.000000</td>\n",
       "      <td>100484.75000</td>\n",
       "    </tr>\n",
       "    <tr>\n",
       "      <th>50%</th>\n",
       "      <td>200.500000</td>\n",
       "      <td>10.000000</td>\n",
       "      <td>128561.50000</td>\n",
       "    </tr>\n",
       "    <tr>\n",
       "      <th>75%</th>\n",
       "      <td>300.250000</td>\n",
       "      <td>15.000000</td>\n",
       "      <td>157735.00000</td>\n",
       "    </tr>\n",
       "    <tr>\n",
       "      <th>max</th>\n",
       "      <td>400.000000</td>\n",
       "      <td>20.000000</td>\n",
       "      <td>269950.00000</td>\n",
       "    </tr>\n",
       "  </tbody>\n",
       "</table>\n",
       "</div>"
      ],
      "text/plain": [
       "               ID  Experience (Years)        Salary\n",
       "count  400.000000          400.000000     400.00000\n",
       "mean   200.500000            9.670000  131701.19750\n",
       "std    115.614301            6.101571   43351.50899\n",
       "min      1.000000            0.000000   43643.00000\n",
       "25%    100.750000            4.000000  100484.75000\n",
       "50%    200.500000           10.000000  128561.50000\n",
       "75%    300.250000           15.000000  157735.00000\n",
       "max    400.000000           20.000000  269950.00000"
      ]
     },
     "execution_count": 19,
     "metadata": {},
     "output_type": "execute_result"
    }
   ],
   "source": [
    "df.describe()"
   ]
  },
  {
   "cell_type": "code",
   "execution_count": 20,
   "id": "59e8cefb",
   "metadata": {},
   "outputs": [
    {
     "name": "stdout",
     "output_type": "stream",
     "text": [
      "(400, 5)\n"
     ]
    }
   ],
   "source": [
    "print(df.shape) "
   ]
  },
  {
   "cell_type": "code",
   "execution_count": 21,
   "id": "1c5188db",
   "metadata": {},
   "outputs": [
    {
     "name": "stdout",
     "output_type": "stream",
     "text": [
      "Index(['ID', 'Gender', 'Experience (Years)', 'Position', 'Salary'], dtype='object')\n"
     ]
    }
   ],
   "source": [
    "\n",
    "print(df.columns)"
   ]
  },
  {
   "cell_type": "code",
   "execution_count": 22,
   "id": "a638bba0",
   "metadata": {
    "execution": {
     "iopub.execute_input": "2024-08-28T19:07:10.111170Z",
     "iopub.status.busy": "2024-08-28T19:07:10.110365Z",
     "iopub.status.idle": "2024-08-28T19:07:10.121572Z",
     "shell.execute_reply": "2024-08-28T19:07:10.120358Z"
    },
    "papermill": {
     "duration": 0.03331,
     "end_time": "2024-08-28T19:07:10.124464",
     "exception": false,
     "start_time": "2024-08-28T19:07:10.091154",
     "status": "completed"
    },
    "tags": []
   },
   "outputs": [
    {
     "data": {
      "text/plain": [
       "ID                    400\n",
       "Gender                  2\n",
       "Experience (Years)     21\n",
       "Position               11\n",
       "Salary                400\n",
       "dtype: int64"
      ]
     },
     "execution_count": 22,
     "metadata": {},
     "output_type": "execute_result"
    }
   ],
   "source": [
    "df.nunique()"
   ]
  },
  {
   "cell_type": "code",
   "execution_count": 23,
   "id": "0e4ba726",
   "metadata": {
    "execution": {
     "iopub.execute_input": "2024-08-28T19:07:10.152232Z",
     "iopub.status.busy": "2024-08-28T19:07:10.151666Z",
     "iopub.status.idle": "2024-08-28T19:07:10.173660Z",
     "shell.execute_reply": "2024-08-28T19:07:10.172415Z"
    },
    "papermill": {
     "duration": 0.038149,
     "end_time": "2024-08-28T19:07:10.176524",
     "exception": false,
     "start_time": "2024-08-28T19:07:10.138375",
     "status": "completed"
    },
    "tags": []
   },
   "outputs": [
    {
     "data": {
      "text/html": [
       "<div>\n",
       "<style scoped>\n",
       "    .dataframe tbody tr th:only-of-type {\n",
       "        vertical-align: middle;\n",
       "    }\n",
       "\n",
       "    .dataframe tbody tr th {\n",
       "        vertical-align: top;\n",
       "    }\n",
       "\n",
       "    .dataframe thead th {\n",
       "        text-align: right;\n",
       "    }\n",
       "</style>\n",
       "<table border=\"1\" class=\"dataframe\">\n",
       "  <thead>\n",
       "    <tr style=\"text-align: right;\">\n",
       "      <th></th>\n",
       "      <th>ID</th>\n",
       "      <th>Gender</th>\n",
       "      <th>Experience (Years)</th>\n",
       "      <th>Position</th>\n",
       "    </tr>\n",
       "  </thead>\n",
       "  <tbody>\n",
       "    <tr>\n",
       "      <th>100</th>\n",
       "      <td>101</td>\n",
       "      <td>M</td>\n",
       "      <td>4</td>\n",
       "      <td>IT Support Specialist</td>\n",
       "    </tr>\n",
       "    <tr>\n",
       "      <th>101</th>\n",
       "      <td>102</td>\n",
       "      <td>M</td>\n",
       "      <td>1</td>\n",
       "      <td>DevOps Engineer</td>\n",
       "    </tr>\n",
       "    <tr>\n",
       "      <th>102</th>\n",
       "      <td>103</td>\n",
       "      <td>F</td>\n",
       "      <td>3</td>\n",
       "      <td>IT Support Specialist</td>\n",
       "    </tr>\n",
       "    <tr>\n",
       "      <th>103</th>\n",
       "      <td>104</td>\n",
       "      <td>M</td>\n",
       "      <td>9</td>\n",
       "      <td>Cloud Solutions Architect</td>\n",
       "    </tr>\n",
       "    <tr>\n",
       "      <th>104</th>\n",
       "      <td>105</td>\n",
       "      <td>F</td>\n",
       "      <td>16</td>\n",
       "      <td>Systems Analyst</td>\n",
       "    </tr>\n",
       "    <tr>\n",
       "      <th>105</th>\n",
       "      <td>106</td>\n",
       "      <td>M</td>\n",
       "      <td>3</td>\n",
       "      <td>Database Administrator (DBA)</td>\n",
       "    </tr>\n",
       "    <tr>\n",
       "      <th>106</th>\n",
       "      <td>107</td>\n",
       "      <td>M</td>\n",
       "      <td>6</td>\n",
       "      <td>IT Security Analyst</td>\n",
       "    </tr>\n",
       "    <tr>\n",
       "      <th>107</th>\n",
       "      <td>108</td>\n",
       "      <td>M</td>\n",
       "      <td>14</td>\n",
       "      <td>IT Manager</td>\n",
       "    </tr>\n",
       "    <tr>\n",
       "      <th>108</th>\n",
       "      <td>109</td>\n",
       "      <td>M</td>\n",
       "      <td>2</td>\n",
       "      <td>Software Engineer</td>\n",
       "    </tr>\n",
       "    <tr>\n",
       "      <th>109</th>\n",
       "      <td>110</td>\n",
       "      <td>M</td>\n",
       "      <td>14</td>\n",
       "      <td>Database Administrator (DBA)</td>\n",
       "    </tr>\n",
       "    <tr>\n",
       "      <th>110</th>\n",
       "      <td>111</td>\n",
       "      <td>M</td>\n",
       "      <td>9</td>\n",
       "      <td>Systems Analyst</td>\n",
       "    </tr>\n",
       "    <tr>\n",
       "      <th>111</th>\n",
       "      <td>112</td>\n",
       "      <td>F</td>\n",
       "      <td>1</td>\n",
       "      <td>IT Support Specialist</td>\n",
       "    </tr>\n",
       "    <tr>\n",
       "      <th>112</th>\n",
       "      <td>113</td>\n",
       "      <td>M</td>\n",
       "      <td>2</td>\n",
       "      <td>IT Manager</td>\n",
       "    </tr>\n",
       "    <tr>\n",
       "      <th>113</th>\n",
       "      <td>114</td>\n",
       "      <td>F</td>\n",
       "      <td>18</td>\n",
       "      <td>Software Engineer</td>\n",
       "    </tr>\n",
       "    <tr>\n",
       "      <th>114</th>\n",
       "      <td>115</td>\n",
       "      <td>F</td>\n",
       "      <td>4</td>\n",
       "      <td>Systems Analyst</td>\n",
       "    </tr>\n",
       "    <tr>\n",
       "      <th>115</th>\n",
       "      <td>116</td>\n",
       "      <td>M</td>\n",
       "      <td>18</td>\n",
       "      <td>IT Manager</td>\n",
       "    </tr>\n",
       "    <tr>\n",
       "      <th>116</th>\n",
       "      <td>117</td>\n",
       "      <td>M</td>\n",
       "      <td>16</td>\n",
       "      <td>DevOps Engineer</td>\n",
       "    </tr>\n",
       "    <tr>\n",
       "      <th>117</th>\n",
       "      <td>118</td>\n",
       "      <td>F</td>\n",
       "      <td>2</td>\n",
       "      <td>Systems Administrator</td>\n",
       "    </tr>\n",
       "    <tr>\n",
       "      <th>118</th>\n",
       "      <td>119</td>\n",
       "      <td>F</td>\n",
       "      <td>13</td>\n",
       "      <td>Database Administrator (DBA)</td>\n",
       "    </tr>\n",
       "    <tr>\n",
       "      <th>119</th>\n",
       "      <td>120</td>\n",
       "      <td>F</td>\n",
       "      <td>17</td>\n",
       "      <td>DevOps Engineer</td>\n",
       "    </tr>\n",
       "    <tr>\n",
       "      <th>120</th>\n",
       "      <td>121</td>\n",
       "      <td>F</td>\n",
       "      <td>18</td>\n",
       "      <td>IT Manager</td>\n",
       "    </tr>\n",
       "    <tr>\n",
       "      <th>121</th>\n",
       "      <td>122</td>\n",
       "      <td>M</td>\n",
       "      <td>13</td>\n",
       "      <td>Network Administrator</td>\n",
       "    </tr>\n",
       "    <tr>\n",
       "      <th>122</th>\n",
       "      <td>123</td>\n",
       "      <td>F</td>\n",
       "      <td>12</td>\n",
       "      <td>Systems Analyst</td>\n",
       "    </tr>\n",
       "    <tr>\n",
       "      <th>123</th>\n",
       "      <td>124</td>\n",
       "      <td>M</td>\n",
       "      <td>18</td>\n",
       "      <td>Software Engineer</td>\n",
       "    </tr>\n",
       "    <tr>\n",
       "      <th>124</th>\n",
       "      <td>125</td>\n",
       "      <td>F</td>\n",
       "      <td>10</td>\n",
       "      <td>Software Engineer</td>\n",
       "    </tr>\n",
       "    <tr>\n",
       "      <th>125</th>\n",
       "      <td>126</td>\n",
       "      <td>F</td>\n",
       "      <td>18</td>\n",
       "      <td>IT Support Specialist</td>\n",
       "    </tr>\n",
       "    <tr>\n",
       "      <th>126</th>\n",
       "      <td>127</td>\n",
       "      <td>M</td>\n",
       "      <td>5</td>\n",
       "      <td>Systems Analyst</td>\n",
       "    </tr>\n",
       "    <tr>\n",
       "      <th>127</th>\n",
       "      <td>128</td>\n",
       "      <td>M</td>\n",
       "      <td>10</td>\n",
       "      <td>IT Support Specialist</td>\n",
       "    </tr>\n",
       "    <tr>\n",
       "      <th>128</th>\n",
       "      <td>129</td>\n",
       "      <td>F</td>\n",
       "      <td>11</td>\n",
       "      <td>Systems Analyst</td>\n",
       "    </tr>\n",
       "    <tr>\n",
       "      <th>129</th>\n",
       "      <td>130</td>\n",
       "      <td>F</td>\n",
       "      <td>14</td>\n",
       "      <td>IT Support Specialist</td>\n",
       "    </tr>\n",
       "  </tbody>\n",
       "</table>\n",
       "</div>"
      ],
      "text/plain": [
       "      ID Gender  Experience (Years)                      Position\n",
       "100  101      M                   4         IT Support Specialist\n",
       "101  102      M                   1               DevOps Engineer\n",
       "102  103      F                   3         IT Support Specialist\n",
       "103  104      M                   9     Cloud Solutions Architect\n",
       "104  105      F                  16               Systems Analyst\n",
       "105  106      M                   3  Database Administrator (DBA)\n",
       "106  107      M                   6           IT Security Analyst\n",
       "107  108      M                  14                    IT Manager\n",
       "108  109      M                   2             Software Engineer\n",
       "109  110      M                  14  Database Administrator (DBA)\n",
       "110  111      M                   9               Systems Analyst\n",
       "111  112      F                   1         IT Support Specialist\n",
       "112  113      M                   2                    IT Manager\n",
       "113  114      F                  18             Software Engineer\n",
       "114  115      F                   4               Systems Analyst\n",
       "115  116      M                  18                    IT Manager\n",
       "116  117      M                  16               DevOps Engineer\n",
       "117  118      F                   2         Systems Administrator\n",
       "118  119      F                  13  Database Administrator (DBA)\n",
       "119  120      F                  17               DevOps Engineer\n",
       "120  121      F                  18                    IT Manager\n",
       "121  122      M                  13         Network Administrator\n",
       "122  123      F                  12               Systems Analyst\n",
       "123  124      M                  18             Software Engineer\n",
       "124  125      F                  10             Software Engineer\n",
       "125  126      F                  18         IT Support Specialist\n",
       "126  127      M                   5               Systems Analyst\n",
       "127  128      M                  10         IT Support Specialist\n",
       "128  129      F                  11               Systems Analyst\n",
       "129  130      F                  14         IT Support Specialist"
      ]
     },
     "execution_count": 23,
     "metadata": {},
     "output_type": "execute_result"
    }
   ],
   "source": [
    "df.iloc[100:130,0:4]"
   ]
  },
  {
   "cell_type": "code",
   "execution_count": 24,
   "id": "8d6a2c1c",
   "metadata": {
    "execution": {
     "iopub.execute_input": "2024-08-28T19:07:10.202734Z",
     "iopub.status.busy": "2024-08-28T19:07:10.202307Z",
     "iopub.status.idle": "2024-08-28T19:07:10.212160Z",
     "shell.execute_reply": "2024-08-28T19:07:10.210901Z"
    },
    "papermill": {
     "duration": 0.025779,
     "end_time": "2024-08-28T19:07:10.214663",
     "exception": false,
     "start_time": "2024-08-28T19:07:10.188884",
     "status": "completed"
    },
    "tags": []
   },
   "outputs": [
    {
     "data": {
      "text/plain": [
       "Gender\n",
       "M    202\n",
       "F    198\n",
       "Name: count, dtype: int64"
      ]
     },
     "execution_count": 24,
     "metadata": {},
     "output_type": "execute_result"
    }
   ],
   "source": [
    "df['Gender'].value_counts()"
   ]
  },
  {
   "cell_type": "code",
   "execution_count": 25,
   "id": "fcc137d4",
   "metadata": {
    "execution": {
     "iopub.execute_input": "2024-08-28T19:07:10.500310Z",
     "iopub.status.busy": "2024-08-28T19:07:10.499155Z",
     "iopub.status.idle": "2024-08-28T19:07:10.509921Z",
     "shell.execute_reply": "2024-08-28T19:07:10.508802Z"
    },
    "papermill": {
     "duration": 0.028137,
     "end_time": "2024-08-28T19:07:10.512710",
     "exception": false,
     "start_time": "2024-08-28T19:07:10.484573",
     "status": "completed"
    },
    "tags": []
   },
   "outputs": [
    {
     "data": {
      "text/plain": [
       "Position\n",
       "Web Developer                   43\n",
       "IT Manager                      40\n",
       "IT Security Analyst             39\n",
       "Systems Administrator           38\n",
       "Database Administrator (DBA)    38\n",
       "DevOps Engineer                 37\n",
       "Systems Analyst                 37\n",
       "Software Engineer               36\n",
       "Network Administrator           31\n",
       "IT Support Specialist           31\n",
       "Cloud Solutions Architect       30\n",
       "Name: count, dtype: int64"
      ]
     },
     "execution_count": 25,
     "metadata": {},
     "output_type": "execute_result"
    }
   ],
   "source": [
    "df['Position'].value_counts()"
   ]
  },
  {
   "cell_type": "code",
   "execution_count": 26,
   "id": "398969ff",
   "metadata": {
    "execution": {
     "iopub.execute_input": "2024-08-28T19:07:10.545086Z",
     "iopub.status.busy": "2024-08-28T19:07:10.544545Z",
     "iopub.status.idle": "2024-08-28T19:07:10.557917Z",
     "shell.execute_reply": "2024-08-28T19:07:10.556668Z"
    },
    "papermill": {
     "duration": 0.029811,
     "end_time": "2024-08-28T19:07:10.560336",
     "exception": false,
     "start_time": "2024-08-28T19:07:10.530525",
     "status": "completed"
    },
    "tags": []
   },
   "outputs": [
    {
     "data": {
      "text/plain": [
       "count       400.00000\n",
       "mean     131701.19750\n",
       "std       43351.50899\n",
       "min       43643.00000\n",
       "25%      100484.75000\n",
       "50%      128561.50000\n",
       "75%      157735.00000\n",
       "max      269950.00000\n",
       "Name: Salary, dtype: float64"
      ]
     },
     "execution_count": 26,
     "metadata": {},
     "output_type": "execute_result"
    }
   ],
   "source": [
    "df['Salary'].describe()"
   ]
  },
  {
   "cell_type": "code",
   "execution_count": 27,
   "id": "ace77600",
   "metadata": {
    "execution": {
     "iopub.execute_input": "2024-08-28T19:07:10.587159Z",
     "iopub.status.busy": "2024-08-28T19:07:10.586711Z",
     "iopub.status.idle": "2024-08-28T19:07:10.598094Z",
     "shell.execute_reply": "2024-08-28T19:07:10.596971Z"
    },
    "papermill": {
     "duration": 0.027437,
     "end_time": "2024-08-28T19:07:10.600461",
     "exception": false,
     "start_time": "2024-08-28T19:07:10.573024",
     "status": "completed"
    },
    "tags": []
   },
   "outputs": [
    {
     "data": {
      "text/plain": [
       "count    400.000000\n",
       "mean       9.670000\n",
       "std        6.101571\n",
       "min        0.000000\n",
       "25%        4.000000\n",
       "50%       10.000000\n",
       "75%       15.000000\n",
       "max       20.000000\n",
       "Name: Experience (Years), dtype: float64"
      ]
     },
     "execution_count": 27,
     "metadata": {},
     "output_type": "execute_result"
    }
   ],
   "source": [
    "df['Experience (Years)'].describe()"
   ]
  },
  {
   "cell_type": "code",
   "execution_count": 28,
   "id": "83f1ae6f",
   "metadata": {
    "execution": {
     "iopub.execute_input": "2024-08-28T19:07:10.627964Z",
     "iopub.status.busy": "2024-08-28T19:07:10.627500Z",
     "iopub.status.idle": "2024-08-28T19:07:10.642956Z",
     "shell.execute_reply": "2024-08-28T19:07:10.641745Z"
    },
    "papermill": {
     "duration": 0.032494,
     "end_time": "2024-08-28T19:07:10.645529",
     "exception": false,
     "start_time": "2024-08-28T19:07:10.613035",
     "status": "completed"
    },
    "tags": []
   },
   "outputs": [
    {
     "data": {
      "text/plain": [
       "Gender  Position                    \n",
       "F       Systems Analyst                 22\n",
       "        Web Developer                   22\n",
       "        IT Manager                      20\n",
       "        Software Engineer               18\n",
       "        Systems Administrator           18\n",
       "        Cloud Solutions Architect       17\n",
       "        DevOps Engineer                 17\n",
       "        IT Security Analyst             17\n",
       "        IT Support Specialist           17\n",
       "        Database Administrator (DBA)    16\n",
       "        Network Administrator           14\n",
       "M       Database Administrator (DBA)    22\n",
       "        IT Security Analyst             22\n",
       "        Web Developer                   21\n",
       "        DevOps Engineer                 20\n",
       "        IT Manager                      20\n",
       "        Systems Administrator           20\n",
       "        Software Engineer               18\n",
       "        Network Administrator           17\n",
       "        Systems Analyst                 15\n",
       "        IT Support Specialist           14\n",
       "        Cloud Solutions Architect       13\n",
       "Name: count, dtype: int64"
      ]
     },
     "execution_count": 28,
     "metadata": {},
     "output_type": "execute_result"
    }
   ],
   "source": [
    "df.groupby(['Gender'])['Position'].value_counts()"
   ]
  },
  {
   "cell_type": "code",
   "execution_count": 29,
   "id": "5b368776",
   "metadata": {
    "execution": {
     "iopub.execute_input": "2024-08-28T19:07:10.673961Z",
     "iopub.status.busy": "2024-08-28T19:07:10.672777Z",
     "iopub.status.idle": "2024-08-28T19:07:10.685053Z",
     "shell.execute_reply": "2024-08-28T19:07:10.683960Z"
    },
    "papermill": {
     "duration": 0.029341,
     "end_time": "2024-08-28T19:07:10.687812",
     "exception": false,
     "start_time": "2024-08-28T19:07:10.658471",
     "status": "completed"
    },
    "tags": []
   },
   "outputs": [
    {
     "data": {
      "text/plain": [
       "Gender\n",
       "F    132629.974747\n",
       "M    130790.811881\n",
       "Name: Salary, dtype: float64"
      ]
     },
     "execution_count": 29,
     "metadata": {},
     "output_type": "execute_result"
    }
   ],
   "source": [
    "df.groupby(['Gender'])['Salary'].mean()"
   ]
  },
  {
   "cell_type": "code",
   "execution_count": 30,
   "id": "48f49ea8",
   "metadata": {
    "execution": {
     "iopub.execute_input": "2024-08-28T19:07:10.724159Z",
     "iopub.status.busy": "2024-08-28T19:07:10.723019Z",
     "iopub.status.idle": "2024-08-28T19:07:10.735113Z",
     "shell.execute_reply": "2024-08-28T19:07:10.733882Z"
    },
    "papermill": {
     "duration": 0.030754,
     "end_time": "2024-08-28T19:07:10.737506",
     "exception": false,
     "start_time": "2024-08-28T19:07:10.706752",
     "status": "completed"
    },
    "tags": []
   },
   "outputs": [
    {
     "data": {
      "text/plain": [
       "Position\n",
       "Cloud Solutions Architect       160841.633333\n",
       "Database Administrator (DBA)    132864.552632\n",
       "DevOps Engineer                 161859.081081\n",
       "IT Manager                      170711.550000\n",
       "IT Security Analyst             134440.820513\n",
       "IT Support Specialist            87683.806452\n",
       "Network Administrator           116865.064516\n",
       "Software Engineer               131357.416667\n",
       "Systems Administrator           113117.447368\n",
       "Systems Analyst                 127658.189189\n",
       "Web Developer                   108238.116279\n",
       "Name: Salary, dtype: float64"
      ]
     },
     "execution_count": 30,
     "metadata": {},
     "output_type": "execute_result"
    }
   ],
   "source": [
    "df.groupby(['Position'])['Salary'].mean()"
   ]
  },
  {
   "cell_type": "code",
   "execution_count": 31,
   "id": "0282dd77",
   "metadata": {},
   "outputs": [
    {
     "name": "stdout",
     "output_type": "stream",
     "text": [
      "43643\n"
     ]
    }
   ],
   "source": [
    "print(df['Salary'].min())"
   ]
  },
  {
   "cell_type": "code",
   "execution_count": 32,
   "id": "e1577eb3",
   "metadata": {},
   "outputs": [
    {
     "name": "stdout",
     "output_type": "stream",
     "text": [
      "269950\n"
     ]
    }
   ],
   "source": [
    "print(df['Salary'].max())"
   ]
  },
  {
   "cell_type": "code",
   "execution_count": 33,
   "id": "c5c47e77",
   "metadata": {},
   "outputs": [
    {
     "name": "stdout",
     "output_type": "stream",
     "text": [
      "43351.508989511116\n"
     ]
    }
   ],
   "source": [
    "print(df['Salary'].std())"
   ]
  },
  {
   "cell_type": "code",
   "execution_count": 34,
   "id": "a431a1a2",
   "metadata": {
    "execution": {
     "iopub.execute_input": "2024-08-28T19:07:10.766295Z",
     "iopub.status.busy": "2024-08-28T19:07:10.765765Z",
     "iopub.status.idle": "2024-08-28T19:07:10.781271Z",
     "shell.execute_reply": "2024-08-28T19:07:10.780020Z"
    },
    "papermill": {
     "duration": 0.03271,
     "end_time": "2024-08-28T19:07:10.783714",
     "exception": false,
     "start_time": "2024-08-28T19:07:10.751004",
     "status": "completed"
    },
    "tags": []
   },
   "outputs": [
    {
     "data": {
      "text/html": [
       "<div>\n",
       "<style scoped>\n",
       "    .dataframe tbody tr th:only-of-type {\n",
       "        vertical-align: middle;\n",
       "    }\n",
       "\n",
       "    .dataframe tbody tr th {\n",
       "        vertical-align: top;\n",
       "    }\n",
       "\n",
       "    .dataframe thead th {\n",
       "        text-align: right;\n",
       "    }\n",
       "</style>\n",
       "<table border=\"1\" class=\"dataframe\">\n",
       "  <thead>\n",
       "    <tr style=\"text-align: right;\">\n",
       "      <th></th>\n",
       "      <th>ID</th>\n",
       "      <th>Gender</th>\n",
       "      <th>Experience (Years)</th>\n",
       "      <th>Position</th>\n",
       "      <th>Salary</th>\n",
       "    </tr>\n",
       "  </thead>\n",
       "  <tbody>\n",
       "    <tr>\n",
       "      <th>64</th>\n",
       "      <td>65</td>\n",
       "      <td>M</td>\n",
       "      <td>2</td>\n",
       "      <td>IT Support Specialist</td>\n",
       "      <td>48710</td>\n",
       "    </tr>\n",
       "    <tr>\n",
       "      <th>111</th>\n",
       "      <td>112</td>\n",
       "      <td>F</td>\n",
       "      <td>1</td>\n",
       "      <td>IT Support Specialist</td>\n",
       "      <td>43643</td>\n",
       "    </tr>\n",
       "    <tr>\n",
       "      <th>147</th>\n",
       "      <td>148</td>\n",
       "      <td>F</td>\n",
       "      <td>1</td>\n",
       "      <td>IT Support Specialist</td>\n",
       "      <td>49817</td>\n",
       "    </tr>\n",
       "  </tbody>\n",
       "</table>\n",
       "</div>"
      ],
      "text/plain": [
       "      ID Gender  Experience (Years)               Position  Salary\n",
       "64    65      M                   2  IT Support Specialist   48710\n",
       "111  112      F                   1  IT Support Specialist   43643\n",
       "147  148      F                   1  IT Support Specialist   49817"
      ]
     },
     "execution_count": 34,
     "metadata": {},
     "output_type": "execute_result"
    }
   ],
   "source": [
    "df[(df['Salary'] < 50000)]"
   ]
  },
  {
   "cell_type": "code",
   "execution_count": 35,
   "id": "c5caede5",
   "metadata": {
    "execution": {
     "iopub.execute_input": "2024-08-28T19:07:11.913678Z",
     "iopub.status.busy": "2024-08-28T19:07:11.913214Z",
     "iopub.status.idle": "2024-08-28T19:07:11.926036Z",
     "shell.execute_reply": "2024-08-28T19:07:11.924964Z"
    },
    "papermill": {
     "duration": 0.031944,
     "end_time": "2024-08-28T19:07:11.928490",
     "exception": false,
     "start_time": "2024-08-28T19:07:11.896546",
     "status": "completed"
    },
    "tags": []
   },
   "outputs": [
    {
     "data": {
      "text/html": [
       "<div>\n",
       "<style scoped>\n",
       "    .dataframe tbody tr th:only-of-type {\n",
       "        vertical-align: middle;\n",
       "    }\n",
       "\n",
       "    .dataframe tbody tr th {\n",
       "        vertical-align: top;\n",
       "    }\n",
       "\n",
       "    .dataframe thead th {\n",
       "        text-align: right;\n",
       "    }\n",
       "</style>\n",
       "<table border=\"1\" class=\"dataframe\">\n",
       "  <thead>\n",
       "    <tr style=\"text-align: right;\">\n",
       "      <th></th>\n",
       "      <th>ID</th>\n",
       "      <th>Experience (Years)</th>\n",
       "      <th>Salary</th>\n",
       "    </tr>\n",
       "  </thead>\n",
       "  <tbody>\n",
       "    <tr>\n",
       "      <th>ID</th>\n",
       "      <td>1.000000</td>\n",
       "      <td>0.067305</td>\n",
       "      <td>0.00868</td>\n",
       "    </tr>\n",
       "    <tr>\n",
       "      <th>Experience (Years)</th>\n",
       "      <td>0.067305</td>\n",
       "      <td>1.000000</td>\n",
       "      <td>0.61853</td>\n",
       "    </tr>\n",
       "    <tr>\n",
       "      <th>Salary</th>\n",
       "      <td>0.008680</td>\n",
       "      <td>0.618530</td>\n",
       "      <td>1.00000</td>\n",
       "    </tr>\n",
       "  </tbody>\n",
       "</table>\n",
       "</div>"
      ],
      "text/plain": [
       "                          ID  Experience (Years)   Salary\n",
       "ID                  1.000000            0.067305  0.00868\n",
       "Experience (Years)  0.067305            1.000000  0.61853\n",
       "Salary              0.008680            0.618530  1.00000"
      ]
     },
     "execution_count": 35,
     "metadata": {},
     "output_type": "execute_result"
    }
   ],
   "source": [
    "df.corr(numeric_only=True)"
   ]
  },
  {
   "cell_type": "code",
   "execution_count": 36,
   "id": "2773ce18",
   "metadata": {
    "execution": {
     "iopub.execute_input": "2024-08-28T19:07:12.369757Z",
     "iopub.status.busy": "2024-08-28T19:07:12.369328Z",
     "iopub.status.idle": "2024-08-28T19:07:12.383227Z",
     "shell.execute_reply": "2024-08-28T19:07:12.382074Z"
    },
    "papermill": {
     "duration": 0.034644,
     "end_time": "2024-08-28T19:07:12.385492",
     "exception": false,
     "start_time": "2024-08-28T19:07:12.350848",
     "status": "completed"
    },
    "tags": []
   },
   "outputs": [
    {
     "data": {
      "text/html": [
       "<div>\n",
       "<style scoped>\n",
       "    .dataframe tbody tr th:only-of-type {\n",
       "        vertical-align: middle;\n",
       "    }\n",
       "\n",
       "    .dataframe tbody tr th {\n",
       "        vertical-align: top;\n",
       "    }\n",
       "\n",
       "    .dataframe thead th {\n",
       "        text-align: right;\n",
       "    }\n",
       "</style>\n",
       "<table border=\"1\" class=\"dataframe\">\n",
       "  <thead>\n",
       "    <tr style=\"text-align: right;\">\n",
       "      <th></th>\n",
       "      <th>Position</th>\n",
       "      <th>Salary</th>\n",
       "    </tr>\n",
       "  </thead>\n",
       "  <tbody>\n",
       "    <tr>\n",
       "      <th>0</th>\n",
       "      <td>Cloud Solutions Architect</td>\n",
       "      <td>160841.633333</td>\n",
       "    </tr>\n",
       "    <tr>\n",
       "      <th>1</th>\n",
       "      <td>Database Administrator (DBA)</td>\n",
       "      <td>132864.552632</td>\n",
       "    </tr>\n",
       "    <tr>\n",
       "      <th>2</th>\n",
       "      <td>DevOps Engineer</td>\n",
       "      <td>161859.081081</td>\n",
       "    </tr>\n",
       "    <tr>\n",
       "      <th>3</th>\n",
       "      <td>IT Manager</td>\n",
       "      <td>170711.550000</td>\n",
       "    </tr>\n",
       "    <tr>\n",
       "      <th>4</th>\n",
       "      <td>IT Security Analyst</td>\n",
       "      <td>134440.820513</td>\n",
       "    </tr>\n",
       "    <tr>\n",
       "      <th>5</th>\n",
       "      <td>IT Support Specialist</td>\n",
       "      <td>87683.806452</td>\n",
       "    </tr>\n",
       "    <tr>\n",
       "      <th>6</th>\n",
       "      <td>Network Administrator</td>\n",
       "      <td>116865.064516</td>\n",
       "    </tr>\n",
       "    <tr>\n",
       "      <th>7</th>\n",
       "      <td>Software Engineer</td>\n",
       "      <td>131357.416667</td>\n",
       "    </tr>\n",
       "    <tr>\n",
       "      <th>8</th>\n",
       "      <td>Systems Administrator</td>\n",
       "      <td>113117.447368</td>\n",
       "    </tr>\n",
       "    <tr>\n",
       "      <th>9</th>\n",
       "      <td>Systems Analyst</td>\n",
       "      <td>127658.189189</td>\n",
       "    </tr>\n",
       "    <tr>\n",
       "      <th>10</th>\n",
       "      <td>Web Developer</td>\n",
       "      <td>108238.116279</td>\n",
       "    </tr>\n",
       "  </tbody>\n",
       "</table>\n",
       "</div>"
      ],
      "text/plain": [
       "                        Position         Salary\n",
       "0      Cloud Solutions Architect  160841.633333\n",
       "1   Database Administrator (DBA)  132864.552632\n",
       "2                DevOps Engineer  161859.081081\n",
       "3                     IT Manager  170711.550000\n",
       "4            IT Security Analyst  134440.820513\n",
       "5          IT Support Specialist   87683.806452\n",
       "6          Network Administrator  116865.064516\n",
       "7              Software Engineer  131357.416667\n",
       "8          Systems Administrator  113117.447368\n",
       "9                Systems Analyst  127658.189189\n",
       "10                 Web Developer  108238.116279"
      ]
     },
     "execution_count": 36,
     "metadata": {},
     "output_type": "execute_result"
    }
   ],
   "source": [
    "df.groupby('Position')['Salary'].mean().reset_index()"
   ]
  },
  {
   "cell_type": "code",
   "execution_count": 37,
   "id": "507063f6",
   "metadata": {
    "execution": {
     "iopub.execute_input": "2024-08-28T19:07:12.866101Z",
     "iopub.status.busy": "2024-08-28T19:07:12.865649Z",
     "iopub.status.idle": "2024-08-28T19:07:12.878956Z",
     "shell.execute_reply": "2024-08-28T19:07:12.877899Z"
    },
    "papermill": {
     "duration": 0.03556,
     "end_time": "2024-08-28T19:07:12.881239",
     "exception": false,
     "start_time": "2024-08-28T19:07:12.845679",
     "status": "completed"
    },
    "tags": []
   },
   "outputs": [
    {
     "data": {
      "text/html": [
       "<div>\n",
       "<style scoped>\n",
       "    .dataframe tbody tr th:only-of-type {\n",
       "        vertical-align: middle;\n",
       "    }\n",
       "\n",
       "    .dataframe tbody tr th {\n",
       "        vertical-align: top;\n",
       "    }\n",
       "\n",
       "    .dataframe thead th {\n",
       "        text-align: right;\n",
       "    }\n",
       "</style>\n",
       "<table border=\"1\" class=\"dataframe\">\n",
       "  <thead>\n",
       "    <tr style=\"text-align: right;\">\n",
       "      <th></th>\n",
       "      <th>Gender</th>\n",
       "      <th>Salary</th>\n",
       "    </tr>\n",
       "  </thead>\n",
       "  <tbody>\n",
       "    <tr>\n",
       "      <th>0</th>\n",
       "      <td>F</td>\n",
       "      <td>132629.974747</td>\n",
       "    </tr>\n",
       "    <tr>\n",
       "      <th>1</th>\n",
       "      <td>M</td>\n",
       "      <td>130790.811881</td>\n",
       "    </tr>\n",
       "  </tbody>\n",
       "</table>\n",
       "</div>"
      ],
      "text/plain": [
       "  Gender         Salary\n",
       "0      F  132629.974747\n",
       "1      M  130790.811881"
      ]
     },
     "execution_count": 37,
     "metadata": {},
     "output_type": "execute_result"
    }
   ],
   "source": [
    "df.groupby('Gender')['Salary'].mean().reset_index()"
   ]
  }
 ],
 "metadata": {
  "kaggle": {
   "accelerator": "none",
   "dataSources": [
    {
     "datasetId": 5424264,
     "sourceId": 9003971,
     "sourceType": "datasetVersion"
    }
   ],
   "dockerImageVersionId": 30761,
   "isGpuEnabled": false,
   "isInternetEnabled": true,
   "language": "python",
   "sourceType": "notebook"
  },
  "kernelspec": {
   "display_name": "PYTORCHENV",
   "language": "python",
   "name": "python3"
  },
  "language_info": {
   "codemirror_mode": {
    "name": "ipython",
    "version": 3
   },
   "file_extension": ".py",
   "mimetype": "text/x-python",
   "name": "python",
   "nbconvert_exporter": "python",
   "pygments_lexer": "ipython3",
   "version": "3.12.3"
  },
  "papermill": {
   "default_parameters": {},
   "duration": 9.287866,
   "end_time": "2024-08-28T19:07:14.236178",
   "environment_variables": {},
   "exception": null,
   "input_path": "__notebook__.ipynb",
   "output_path": "__notebook__.ipynb",
   "parameters": {},
   "start_time": "2024-08-28T19:07:04.948312",
   "version": "2.6.0"
  }
 },
 "nbformat": 4,
 "nbformat_minor": 5
}
